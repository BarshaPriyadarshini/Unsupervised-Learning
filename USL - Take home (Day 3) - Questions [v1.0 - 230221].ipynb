{
 "cells": [
  {
   "cell_type": "markdown",
   "metadata": {},
   "source": [
    "<table align=\"center\" width=100%>\n",
    "    <tr>\n",
    "        <td width=\"15%\">\n",
    "            <img src=\"GL-2.png\">\n",
    "            <img src=\"homework.png\">\n",
    "        </td>\n",
    "        <td>\n",
    "            <div align=\"center\">\n",
    "                <font color=\"#21618C\" size=8px>\n",
    "                    <b> Take-Home <br>(Day 3)\n",
    "                    </b>\n",
    "                </font>\n",
    "            </div>\n",
    "        </td>\n",
    "    </tr>\n",
    "</table>"
   ]
  },
  {
   "cell_type": "markdown",
   "metadata": {},
   "source": [
    "#### Import the required libraries"
   ]
  },
  {
   "cell_type": "code",
   "execution_count": 1,
   "metadata": {},
   "outputs": [],
   "source": [
    "# write your code here\n",
    "import pandas as pd\n",
    "import numpy as np\n",
    "import matplotlib.pyplot as plt\n",
    "import seaborn as sns\n",
    "from warnings import filterwarnings\n",
    "filterwarnings('ignore')"
   ]
  },
  {
   "cell_type": "markdown",
   "metadata": {},
   "source": [
    "#### Read the data\n",
    "\n",
    "Load the csv file and print the first five observations."
   ]
  },
  {
   "cell_type": "code",
   "execution_count": 3,
   "metadata": {},
   "outputs": [
    {
     "data": {
      "text/html": [
       "<div>\n",
       "<style scoped>\n",
       "    .dataframe tbody tr th:only-of-type {\n",
       "        vertical-align: middle;\n",
       "    }\n",
       "\n",
       "    .dataframe tbody tr th {\n",
       "        vertical-align: top;\n",
       "    }\n",
       "\n",
       "    .dataframe thead th {\n",
       "        text-align: right;\n",
       "    }\n",
       "</style>\n",
       "<table border=\"1\" class=\"dataframe\">\n",
       "  <thead>\n",
       "    <tr style=\"text-align: right;\">\n",
       "      <th></th>\n",
       "      <th>Language</th>\n",
       "      <th>Country</th>\n",
       "      <th>Duration</th>\n",
       "      <th>Budget</th>\n",
       "      <th>Gross Earnings</th>\n",
       "      <th>Facebook_Likes_Director</th>\n",
       "      <th>Facebook_Likes_Actor</th>\n",
       "      <th>Facebook_Likes_Music</th>\n",
       "      <th>Facebook_Likes_Actress</th>\n",
       "      <th>Facebook_Likes_Total_Cast</th>\n",
       "      <th>Facenumber_in_posters</th>\n",
       "      <th>User_upvotes</th>\n",
       "      <th>Reviews_by_Users</th>\n",
       "      <th>IMDB_Score</th>\n",
       "    </tr>\n",
       "  </thead>\n",
       "  <tbody>\n",
       "    <tr>\n",
       "      <th>0</th>\n",
       "      <td>English</td>\n",
       "      <td>USA</td>\n",
       "      <td>123</td>\n",
       "      <td>385907</td>\n",
       "      <td>2300000.0</td>\n",
       "      <td>204</td>\n",
       "      <td>436</td>\n",
       "      <td>22</td>\n",
       "      <td>9</td>\n",
       "      <td>481</td>\n",
       "      <td>1</td>\n",
       "      <td>10718</td>\n",
       "      <td>88</td>\n",
       "      <td>8.0</td>\n",
       "    </tr>\n",
       "    <tr>\n",
       "      <th>1</th>\n",
       "      <td>English</td>\n",
       "      <td>USA</td>\n",
       "      <td>110</td>\n",
       "      <td>100000</td>\n",
       "      <td>3000000.0</td>\n",
       "      <td>0</td>\n",
       "      <td>2</td>\n",
       "      <td>2</td>\n",
       "      <td>0</td>\n",
       "      <td>4</td>\n",
       "      <td>1</td>\n",
       "      <td>5</td>\n",
       "      <td>1</td>\n",
       "      <td>4.8</td>\n",
       "    </tr>\n",
       "    <tr>\n",
       "      <th>2</th>\n",
       "      <td>English</td>\n",
       "      <td>USA</td>\n",
       "      <td>151</td>\n",
       "      <td>245000</td>\n",
       "      <td>3000000.0</td>\n",
       "      <td>54</td>\n",
       "      <td>81</td>\n",
       "      <td>12</td>\n",
       "      <td>6</td>\n",
       "      <td>108</td>\n",
       "      <td>0</td>\n",
       "      <td>4849</td>\n",
       "      <td>45</td>\n",
       "      <td>8.3</td>\n",
       "    </tr>\n",
       "    <tr>\n",
       "      <th>3</th>\n",
       "      <td>German</td>\n",
       "      <td>Germany</td>\n",
       "      <td>145</td>\n",
       "      <td>6000000</td>\n",
       "      <td>26435.0</td>\n",
       "      <td>756</td>\n",
       "      <td>136</td>\n",
       "      <td>23</td>\n",
       "      <td>18</td>\n",
       "      <td>203</td>\n",
       "      <td>1</td>\n",
       "      <td>111841</td>\n",
       "      <td>413</td>\n",
       "      <td>8.3</td>\n",
       "    </tr>\n",
       "    <tr>\n",
       "      <th>4</th>\n",
       "      <td>German</td>\n",
       "      <td>Germany</td>\n",
       "      <td>110</td>\n",
       "      <td>6000000</td>\n",
       "      <td>9950.0</td>\n",
       "      <td>21</td>\n",
       "      <td>426</td>\n",
       "      <td>20</td>\n",
       "      <td>3</td>\n",
       "      <td>455</td>\n",
       "      <td>1</td>\n",
       "      <td>7431</td>\n",
       "      <td>84</td>\n",
       "      <td>8.0</td>\n",
       "    </tr>\n",
       "  </tbody>\n",
       "</table>\n",
       "</div>"
      ],
      "text/plain": [
       "  Language  Country  Duration   Budget  Gross Earnings  \\\n",
       "0  English      USA       123   385907       2300000.0   \n",
       "1  English      USA       110   100000       3000000.0   \n",
       "2  English      USA       151   245000       3000000.0   \n",
       "3   German  Germany       145  6000000         26435.0   \n",
       "4   German  Germany       110  6000000          9950.0   \n",
       "\n",
       "   Facebook_Likes_Director  Facebook_Likes_Actor  Facebook_Likes_Music  \\\n",
       "0                      204                   436                    22   \n",
       "1                        0                     2                     2   \n",
       "2                       54                    81                    12   \n",
       "3                      756                   136                    23   \n",
       "4                       21                   426                    20   \n",
       "\n",
       "   Facebook_Likes_Actress  Facebook_Likes_Total_Cast  Facenumber_in_posters  \\\n",
       "0                       9                        481                      1   \n",
       "1                       0                          4                      1   \n",
       "2                       6                        108                      0   \n",
       "3                      18                        203                      1   \n",
       "4                       3                        455                      1   \n",
       "\n",
       "   User_upvotes  Reviews_by_Users  IMDB_Score  \n",
       "0         10718                88         8.0  \n",
       "1             5                 1         4.8  \n",
       "2          4849                45         8.3  \n",
       "3        111841               413         8.3  \n",
       "4          7431                84         8.0  "
      ]
     },
     "execution_count": 3,
     "metadata": {},
     "output_type": "execute_result"
    }
   ],
   "source": [
    "\n",
    "df=pd.read_csv(\"Movies_Data.csv\")\n",
    "df.head()"
   ]
  },
  {
   "cell_type": "markdown",
   "metadata": {},
   "source": [
    "The data includes the information about the various factors affecting the popularity of the movies.  \n",
    "\n",
    "**The data definition is as follows:** \n",
    "\n",
    "**Language:** The language in which the movie is produced\n",
    "\n",
    "**Country:** The name of the country in which the movie is produced\n",
    "\n",
    "**Duration:** Time duration of the movie in minutes\n",
    "\n",
    "**Budget:** Overall cost to produce the movie in dollars\n",
    "\n",
    "**Gross_Earnings:** Box office collection of the movie\n",
    "\n",
    "**Facebook_Likes_Director:** Likes on Facebook for director of the movie\n",
    "\n",
    "**Facebook_Likes_Actor:** Likes on Facebook for an actor of the movie\n",
    "\n",
    "**Facebook_Likes_Music:** Likes on Facebook for the music of the movie\n",
    "\n",
    "**Facebook_Likes_Actress:** Likes on Facebook for an actress of the movie\n",
    "\n",
    "**Facebook_Likes_Total_Cast:** Likes on Facebook for all the characters in the movie\n",
    "\n",
    "**Facenumber_in_posters:** Number of faces on the movie poster\n",
    "\n",
    "**User_upvotes:** Upvotes given by the users \n",
    "\n",
    "**Reviews_by_Users:** Number of reviews given by the users\n",
    "\n",
    "**IMDB_Score:** Internet Movie Database (IMDB) score of the movie which is based on individual ratings"
   ]
  },
  {
   "cell_type": "markdown",
   "metadata": {},
   "source": [
    "### Let's begin with some hands-on practice exercises"
   ]
  },
  {
   "cell_type": "markdown",
   "metadata": {},
   "source": [
    "<table align=\"left\">\n",
    "    <tr>\n",
    "        <td width=\"6%\">\n",
    "            <img src=\"question_icon.png\">\n",
    "        </td>\n",
    "        <td>\n",
    "            <div align=\"left\", style=\"font-size:120%\">\n",
    "                <font color=\"#21618C\">\n",
    "                    <b>1. Find the dimension of the data and check if there are any missing values present in the data. </b>\n",
    "                </font>\n",
    "            </div>\n",
    "        </td>\n",
    "    </tr>\n",
    "</table>"
   ]
  },
  {
   "cell_type": "code",
   "execution_count": 4,
   "metadata": {},
   "outputs": [
    {
     "data": {
      "text/plain": [
       "(1290, 14)"
      ]
     },
     "execution_count": 4,
     "metadata": {},
     "output_type": "execute_result"
    }
   ],
   "source": [
    "# write your code here\n",
    "df.shape"
   ]
  },
  {
   "cell_type": "code",
   "execution_count": 5,
   "metadata": {},
   "outputs": [
    {
     "data": {
      "text/plain": [
       "Language                     0\n",
       "Country                      0\n",
       "Duration                     0\n",
       "Budget                       0\n",
       "Gross Earnings               0\n",
       "Facebook_Likes_Director      0\n",
       "Facebook_Likes_Actor         0\n",
       "Facebook_Likes_Music         0\n",
       "Facebook_Likes_Actress       0\n",
       "Facebook_Likes_Total_Cast    0\n",
       "Facenumber_in_posters        0\n",
       "User_upvotes                 0\n",
       "Reviews_by_Users             0\n",
       "IMDB_Score                   0\n",
       "dtype: int64"
      ]
     },
     "execution_count": 5,
     "metadata": {},
     "output_type": "execute_result"
    }
   ],
   "source": [
    "#missing values\n",
    "df.isnull().sum()\n"
   ]
  },
  {
   "cell_type": "markdown",
   "metadata": {},
   "source": [
    "<table align=\"left\">\n",
    "    <tr>\n",
    "        <td width=\"6%\">\n",
    "            <img src=\"question_icon.png\">\n",
    "        </td>\n",
    "        <td>\n",
    "            <div align=\"left\", style=\"font-size:120%\">\n",
    "                <font color=\"#21618C\">\n",
    "                    <b>2. Check the data type of each variable and consider only the numerical variables for the further analysis. </b>\n",
    "                </font>\n",
    "            </div>\n",
    "        </td>\n",
    "    </tr>\n",
    "</table>"
   ]
  },
  {
   "cell_type": "code",
   "execution_count": 6,
   "metadata": {
    "scrolled": true
   },
   "outputs": [
    {
     "data": {
      "text/plain": [
       "Language                      object\n",
       "Country                       object\n",
       "Duration                       int64\n",
       "Budget                         int64\n",
       "Gross Earnings               float64\n",
       "Facebook_Likes_Director        int64\n",
       "Facebook_Likes_Actor           int64\n",
       "Facebook_Likes_Music           int64\n",
       "Facebook_Likes_Actress         int64\n",
       "Facebook_Likes_Total_Cast      int64\n",
       "Facenumber_in_posters          int64\n",
       "User_upvotes                   int64\n",
       "Reviews_by_Users               int64\n",
       "IMDB_Score                   float64\n",
       "dtype: object"
      ]
     },
     "execution_count": 6,
     "metadata": {},
     "output_type": "execute_result"
    }
   ],
   "source": [
    "# write your code here\n",
    "df.dtypes"
   ]
  },
  {
   "cell_type": "code",
   "execution_count": 9,
   "metadata": {},
   "outputs": [
    {
     "data": {
      "text/html": [
       "<div>\n",
       "<style scoped>\n",
       "    .dataframe tbody tr th:only-of-type {\n",
       "        vertical-align: middle;\n",
       "    }\n",
       "\n",
       "    .dataframe tbody tr th {\n",
       "        vertical-align: top;\n",
       "    }\n",
       "\n",
       "    .dataframe thead th {\n",
       "        text-align: right;\n",
       "    }\n",
       "</style>\n",
       "<table border=\"1\" class=\"dataframe\">\n",
       "  <thead>\n",
       "    <tr style=\"text-align: right;\">\n",
       "      <th></th>\n",
       "      <th>Duration</th>\n",
       "      <th>Budget</th>\n",
       "      <th>Gross Earnings</th>\n",
       "      <th>Facebook_Likes_Director</th>\n",
       "      <th>Facebook_Likes_Actor</th>\n",
       "      <th>Facebook_Likes_Music</th>\n",
       "      <th>Facebook_Likes_Actress</th>\n",
       "      <th>Facebook_Likes_Total_Cast</th>\n",
       "      <th>Facenumber_in_posters</th>\n",
       "      <th>User_upvotes</th>\n",
       "      <th>Reviews_by_Users</th>\n",
       "      <th>IMDB_Score</th>\n",
       "    </tr>\n",
       "  </thead>\n",
       "  <tbody>\n",
       "    <tr>\n",
       "      <th>0</th>\n",
       "      <td>123</td>\n",
       "      <td>385907</td>\n",
       "      <td>2300000.0</td>\n",
       "      <td>204</td>\n",
       "      <td>436</td>\n",
       "      <td>22</td>\n",
       "      <td>9</td>\n",
       "      <td>481</td>\n",
       "      <td>1</td>\n",
       "      <td>10718</td>\n",
       "      <td>88</td>\n",
       "      <td>8.0</td>\n",
       "    </tr>\n",
       "    <tr>\n",
       "      <th>1</th>\n",
       "      <td>110</td>\n",
       "      <td>100000</td>\n",
       "      <td>3000000.0</td>\n",
       "      <td>0</td>\n",
       "      <td>2</td>\n",
       "      <td>2</td>\n",
       "      <td>0</td>\n",
       "      <td>4</td>\n",
       "      <td>1</td>\n",
       "      <td>5</td>\n",
       "      <td>1</td>\n",
       "      <td>4.8</td>\n",
       "    </tr>\n",
       "    <tr>\n",
       "      <th>2</th>\n",
       "      <td>151</td>\n",
       "      <td>245000</td>\n",
       "      <td>3000000.0</td>\n",
       "      <td>54</td>\n",
       "      <td>81</td>\n",
       "      <td>12</td>\n",
       "      <td>6</td>\n",
       "      <td>108</td>\n",
       "      <td>0</td>\n",
       "      <td>4849</td>\n",
       "      <td>45</td>\n",
       "      <td>8.3</td>\n",
       "    </tr>\n",
       "    <tr>\n",
       "      <th>3</th>\n",
       "      <td>145</td>\n",
       "      <td>6000000</td>\n",
       "      <td>26435.0</td>\n",
       "      <td>756</td>\n",
       "      <td>136</td>\n",
       "      <td>23</td>\n",
       "      <td>18</td>\n",
       "      <td>203</td>\n",
       "      <td>1</td>\n",
       "      <td>111841</td>\n",
       "      <td>413</td>\n",
       "      <td>8.3</td>\n",
       "    </tr>\n",
       "    <tr>\n",
       "      <th>4</th>\n",
       "      <td>110</td>\n",
       "      <td>6000000</td>\n",
       "      <td>9950.0</td>\n",
       "      <td>21</td>\n",
       "      <td>426</td>\n",
       "      <td>20</td>\n",
       "      <td>3</td>\n",
       "      <td>455</td>\n",
       "      <td>1</td>\n",
       "      <td>7431</td>\n",
       "      <td>84</td>\n",
       "      <td>8.0</td>\n",
       "    </tr>\n",
       "  </tbody>\n",
       "</table>\n",
       "</div>"
      ],
      "text/plain": [
       "   Duration   Budget  Gross Earnings  Facebook_Likes_Director  \\\n",
       "0       123   385907       2300000.0                      204   \n",
       "1       110   100000       3000000.0                        0   \n",
       "2       151   245000       3000000.0                       54   \n",
       "3       145  6000000         26435.0                      756   \n",
       "4       110  6000000          9950.0                       21   \n",
       "\n",
       "   Facebook_Likes_Actor  Facebook_Likes_Music  Facebook_Likes_Actress  \\\n",
       "0                   436                    22                       9   \n",
       "1                     2                     2                       0   \n",
       "2                    81                    12                       6   \n",
       "3                   136                    23                      18   \n",
       "4                   426                    20                       3   \n",
       "\n",
       "   Facebook_Likes_Total_Cast  Facenumber_in_posters  User_upvotes  \\\n",
       "0                        481                      1         10718   \n",
       "1                          4                      1             5   \n",
       "2                        108                      0          4849   \n",
       "3                        203                      1        111841   \n",
       "4                        455                      1          7431   \n",
       "\n",
       "   Reviews_by_Users  IMDB_Score  \n",
       "0                88         8.0  \n",
       "1                 1         4.8  \n",
       "2                45         8.3  \n",
       "3               413         8.3  \n",
       "4                84         8.0  "
      ]
     },
     "execution_count": 9,
     "metadata": {},
     "output_type": "execute_result"
    }
   ],
   "source": [
    "df_num=df.select_dtypes(include='number')\n",
    "df_num.head()"
   ]
  },
  {
   "cell_type": "markdown",
   "metadata": {},
   "source": [
    "<table align=\"left\">\n",
    "    <tr>\n",
    "        <td width=\"6%\">\n",
    "            <img src=\"question_icon.png\">\n",
    "        </td>\n",
    "        <td>\n",
    "            <div align=\"left\", style=\"font-size:120%\">\n",
    "                <font color=\"#21618C\">\n",
    "                    <b>3. Find the summary statistics of each variable. </b>\n",
    "                </font>\n",
    "            </div>\n",
    "        </td>\n",
    "    </tr>\n",
    "</table>"
   ]
  },
  {
   "cell_type": "code",
   "execution_count": 10,
   "metadata": {},
   "outputs": [
    {
     "data": {
      "text/html": [
       "<div>\n",
       "<style scoped>\n",
       "    .dataframe tbody tr th:only-of-type {\n",
       "        vertical-align: middle;\n",
       "    }\n",
       "\n",
       "    .dataframe tbody tr th {\n",
       "        vertical-align: top;\n",
       "    }\n",
       "\n",
       "    .dataframe thead th {\n",
       "        text-align: right;\n",
       "    }\n",
       "</style>\n",
       "<table border=\"1\" class=\"dataframe\">\n",
       "  <thead>\n",
       "    <tr style=\"text-align: right;\">\n",
       "      <th></th>\n",
       "      <th>Duration</th>\n",
       "      <th>Budget</th>\n",
       "      <th>Gross Earnings</th>\n",
       "      <th>Facebook_Likes_Director</th>\n",
       "      <th>Facebook_Likes_Actor</th>\n",
       "      <th>Facebook_Likes_Music</th>\n",
       "      <th>Facebook_Likes_Actress</th>\n",
       "      <th>Facebook_Likes_Total_Cast</th>\n",
       "      <th>Facenumber_in_posters</th>\n",
       "      <th>User_upvotes</th>\n",
       "      <th>Reviews_by_Users</th>\n",
       "      <th>IMDB_Score</th>\n",
       "    </tr>\n",
       "  </thead>\n",
       "  <tbody>\n",
       "    <tr>\n",
       "      <th>count</th>\n",
       "      <td>1290.000000</td>\n",
       "      <td>1.290000e+03</td>\n",
       "      <td>1.290000e+03</td>\n",
       "      <td>1290.000000</td>\n",
       "      <td>1290.000000</td>\n",
       "      <td>1290.000000</td>\n",
       "      <td>1290.000000</td>\n",
       "      <td>1290.000000</td>\n",
       "      <td>1290.000000</td>\n",
       "      <td>1.290000e+03</td>\n",
       "      <td>1290.000000</td>\n",
       "      <td>1290.000000</td>\n",
       "    </tr>\n",
       "    <tr>\n",
       "      <th>mean</th>\n",
       "      <td>112.820155</td>\n",
       "      <td>2.806425e+07</td>\n",
       "      <td>4.991004e+07</td>\n",
       "      <td>1013.703101</td>\n",
       "      <td>5362.683721</td>\n",
       "      <td>1258.912403</td>\n",
       "      <td>464.822481</td>\n",
       "      <td>7833.998450</td>\n",
       "      <td>1.175194</td>\n",
       "      <td>8.671417e+04</td>\n",
       "      <td>257.572868</td>\n",
       "      <td>6.682636</td>\n",
       "    </tr>\n",
       "    <tr>\n",
       "      <th>std</th>\n",
       "      <td>27.433710</td>\n",
       "      <td>8.467128e+07</td>\n",
       "      <td>6.828609e+07</td>\n",
       "      <td>3429.375309</td>\n",
       "      <td>8742.569746</td>\n",
       "      <td>2940.099245</td>\n",
       "      <td>893.997145</td>\n",
       "      <td>11185.340704</td>\n",
       "      <td>1.617977</td>\n",
       "      <td>1.580294e+05</td>\n",
       "      <td>347.512945</td>\n",
       "      <td>1.063183</td>\n",
       "    </tr>\n",
       "    <tr>\n",
       "      <th>min</th>\n",
       "      <td>25.000000</td>\n",
       "      <td>7.000000e+03</td>\n",
       "      <td>-8.935171e+07</td>\n",
       "      <td>0.000000</td>\n",
       "      <td>0.000000</td>\n",
       "      <td>0.000000</td>\n",
       "      <td>0.000000</td>\n",
       "      <td>0.000000</td>\n",
       "      <td>0.000000</td>\n",
       "      <td>5.000000e+00</td>\n",
       "      <td>1.000000</td>\n",
       "      <td>2.300000</td>\n",
       "    </tr>\n",
       "    <tr>\n",
       "      <th>25%</th>\n",
       "      <td>96.000000</td>\n",
       "      <td>4.534696e+06</td>\n",
       "      <td>8.882564e+06</td>\n",
       "      <td>6.000000</td>\n",
       "      <td>607.000000</td>\n",
       "      <td>277.000000</td>\n",
       "      <td>136.250000</td>\n",
       "      <td>1439.250000</td>\n",
       "      <td>0.000000</td>\n",
       "      <td>1.014975e+04</td>\n",
       "      <td>78.000000</td>\n",
       "      <td>6.100000</td>\n",
       "    </tr>\n",
       "    <tr>\n",
       "      <th>50%</th>\n",
       "      <td>107.000000</td>\n",
       "      <td>1.500000e+07</td>\n",
       "      <td>2.753062e+07</td>\n",
       "      <td>55.000000</td>\n",
       "      <td>935.500000</td>\n",
       "      <td>567.500000</td>\n",
       "      <td>327.000000</td>\n",
       "      <td>2707.500000</td>\n",
       "      <td>1.000000</td>\n",
       "      <td>3.449550e+04</td>\n",
       "      <td>160.500000</td>\n",
       "      <td>6.800000</td>\n",
       "    </tr>\n",
       "    <tr>\n",
       "      <th>75%</th>\n",
       "      <td>123.000000</td>\n",
       "      <td>3.500000e+07</td>\n",
       "      <td>6.681557e+07</td>\n",
       "      <td>272.000000</td>\n",
       "      <td>10000.000000</td>\n",
       "      <td>852.000000</td>\n",
       "      <td>598.000000</td>\n",
       "      <td>12179.000000</td>\n",
       "      <td>2.000000</td>\n",
       "      <td>9.190900e+04</td>\n",
       "      <td>308.000000</td>\n",
       "      <td>7.400000</td>\n",
       "    </tr>\n",
       "    <tr>\n",
       "      <th>max</th>\n",
       "      <td>330.000000</td>\n",
       "      <td>2.400000e+09</td>\n",
       "      <td>8.557989e+08</td>\n",
       "      <td>21000.000000</td>\n",
       "      <td>49000.000000</td>\n",
       "      <td>29000.000000</td>\n",
       "      <td>13000.000000</td>\n",
       "      <td>74382.000000</td>\n",
       "      <td>15.000000</td>\n",
       "      <td>1.689764e+06</td>\n",
       "      <td>4144.000000</td>\n",
       "      <td>9.300000</td>\n",
       "    </tr>\n",
       "  </tbody>\n",
       "</table>\n",
       "</div>"
      ],
      "text/plain": [
       "          Duration        Budget  Gross Earnings  Facebook_Likes_Director  \\\n",
       "count  1290.000000  1.290000e+03    1.290000e+03              1290.000000   \n",
       "mean    112.820155  2.806425e+07    4.991004e+07              1013.703101   \n",
       "std      27.433710  8.467128e+07    6.828609e+07              3429.375309   \n",
       "min      25.000000  7.000000e+03   -8.935171e+07                 0.000000   \n",
       "25%      96.000000  4.534696e+06    8.882564e+06                 6.000000   \n",
       "50%     107.000000  1.500000e+07    2.753062e+07                55.000000   \n",
       "75%     123.000000  3.500000e+07    6.681557e+07               272.000000   \n",
       "max     330.000000  2.400000e+09    8.557989e+08             21000.000000   \n",
       "\n",
       "       Facebook_Likes_Actor  Facebook_Likes_Music  Facebook_Likes_Actress  \\\n",
       "count           1290.000000           1290.000000             1290.000000   \n",
       "mean            5362.683721           1258.912403              464.822481   \n",
       "std             8742.569746           2940.099245              893.997145   \n",
       "min                0.000000              0.000000                0.000000   \n",
       "25%              607.000000            277.000000              136.250000   \n",
       "50%              935.500000            567.500000              327.000000   \n",
       "75%            10000.000000            852.000000              598.000000   \n",
       "max            49000.000000          29000.000000            13000.000000   \n",
       "\n",
       "       Facebook_Likes_Total_Cast  Facenumber_in_posters  User_upvotes  \\\n",
       "count                1290.000000            1290.000000  1.290000e+03   \n",
       "mean                 7833.998450               1.175194  8.671417e+04   \n",
       "std                 11185.340704               1.617977  1.580294e+05   \n",
       "min                     0.000000               0.000000  5.000000e+00   \n",
       "25%                  1439.250000               0.000000  1.014975e+04   \n",
       "50%                  2707.500000               1.000000  3.449550e+04   \n",
       "75%                 12179.000000               2.000000  9.190900e+04   \n",
       "max                 74382.000000              15.000000  1.689764e+06   \n",
       "\n",
       "       Reviews_by_Users   IMDB_Score  \n",
       "count       1290.000000  1290.000000  \n",
       "mean         257.572868     6.682636  \n",
       "std          347.512945     1.063183  \n",
       "min            1.000000     2.300000  \n",
       "25%           78.000000     6.100000  \n",
       "50%          160.500000     6.800000  \n",
       "75%          308.000000     7.400000  \n",
       "max         4144.000000     9.300000  "
      ]
     },
     "execution_count": 10,
     "metadata": {},
     "output_type": "execute_result"
    }
   ],
   "source": [
    "# write your code here\n",
    "df_num.describe()"
   ]
  },
  {
   "cell_type": "markdown",
   "metadata": {},
   "source": [
    "<table align=\"left\">\n",
    "    <tr>\n",
    "        <td width=\"6%\">\n",
    "            <img src=\"question_icon.png\">\n",
    "        </td>\n",
    "        <td>\n",
    "            <div align=\"left\", style=\"font-size:120%\">\n",
    "                <font color=\"#21618C\">\n",
    "                    <b>4. Check if there are any outliers present in the data and visualize using boxplot. </b>\n",
    "                </font>\n",
    "            </div>\n",
    "        </td>\n",
    "    </tr>\n",
    "</table>"
   ]
  },
  {
   "cell_type": "code",
   "execution_count": 27,
   "metadata": {},
   "outputs": [
    {
     "data": {
      "image/png": "[encoded data removed]",
      "text/plain": [
       "<Figure size 432x288 with 1 Axes>"
      ]
     },
     "metadata": {
      "needs_background": "light"
     },
     "output_type": "display_data"
    },
    {
     "data": {
      "image/png": "[encoded data removed]",
      "text/plain": [
       "<Figure size 432x288 with 1 Axes>"
      ]
     },
     "metadata": {
      "needs_background": "light"
     },
     "output_type": "display_data"
    },
    {
     "data": {
      "image/png": "[encoded data removed]",
      "text/plain": [
       "<Figure size 432x288 with 1 Axes>"
      ]
     },
     "metadata": {
      "needs_background": "light"
     },
     "output_type": "display_data"
    },
    {
     "data": {
      "image/png": "[encoded data removed]",
      "text/plain": [
       "<Figure size 432x288 with 1 Axes>"
      ]
     },
     "metadata": {
      "needs_background": "light"
     },
     "output_type": "display_data"
    },
    {
     "data": {
      "image/png": "[encoded data removed]",
      "text/plain": [
       "<Figure size 432x288 with 1 Axes>"
      ]
     },
     "metadata": {
      "needs_background": "light"
     },
     "output_type": "display_data"
    },
    {
     "data": {
      "image/png": "[encoded data removed]",
      "text/plain": [
       "<Figure size 432x288 with 1 Axes>"
      ]
     },
     "metadata": {
      "needs_background": "light"
     },
     "output_type": "display_data"
    },
    {
     "data": {
      "image/png": "[encoded data removed]",
      "text/plain": [
       "<Figure size 432x288 with 1 Axes>"
      ]
     },
     "metadata": {
      "needs_background": "light"
     },
     "output_type": "display_data"
    },
    {
     "data": {
      "image/png": "[encoded data removed]",
      "text/plain": [
       "<Figure size 432x288 with 1 Axes>"
      ]
     },
     "metadata": {
      "needs_background": "light"
     },
     "output_type": "display_data"
    },
    {
     "data": {
      "image/png": "[encoded data removed]",
      "text/plain": [
       "<Figure size 432x288 with 1 Axes>"
      ]
     },
     "metadata": {
      "needs_background": "light"
     },
     "output_type": "display_data"
    },
    {
     "data": {
      "image/png": "[encoded data removed]",
      "text/plain": [
       "<Figure size 432x288 with 1 Axes>"
      ]
     },
     "metadata": {
      "needs_background": "light"
     },
     "output_type": "display_data"
    },
    {
     "data": {
      "image/png": "[encoded data removed]",
      "text/plain": [
       "<Figure size 432x288 with 1 Axes>"
      ]
     },
     "metadata": {
      "needs_background": "light"
     },
     "output_type": "display_data"
    },
    {
     "data": {
      "image/png": "[encoded data removed]",
      "text/plain": [
       "<Figure size 432x288 with 1 Axes>"
      ]
     },
     "metadata": {
      "needs_background": "light"
     },
     "output_type": "display_data"
    }
   ],
   "source": [
    "# write your code here\n",
    "c=1\n",
    "for i in df_num.select_dtypes(include='number').columns:\n",
    "    sns.boxplot(df_num[i])\n",
    "    c+=1\n",
    "    plt.show()"
   ]
  },
  {
   "cell_type": "markdown",
   "metadata": {},
   "source": [
    "<table align=\"left\">\n",
    "    <tr>\n",
    "        <td width=\"6%\">\n",
    "            <img src=\"question_icon.png\">\n",
    "        </td>\n",
    "        <td>\n",
    "            <div align=\"left\", style=\"font-size:120%\">\n",
    "                <font color=\"#21618C\">\n",
    "                    <b>5. Remove the outliers using 1.5IQR. </b>\n",
    "                </font>\n",
    "            </div>\n",
    "        </td>\n",
    "    </tr>\n",
    "</table>"
   ]
  },
  {
   "cell_type": "code",
   "execution_count": 28,
   "metadata": {},
   "outputs": [],
   "source": [
    "# write your code here\n",
    "q1=df.quantile(0.25)\n",
    "q3=df.quantile(0.75)\n",
    "iqr=q3-q1\n",
    "ll=q1-1.5*iqr\n",
    "ul=q3+1.5*iqr"
   ]
  },
  {
   "cell_type": "code",
   "execution_count": 29,
   "metadata": {},
   "outputs": [],
   "source": [
    "df_trim=df_num[~((df_num<ll)|(df_num>ul)).any(axis=1)]"
   ]
  },
  {
   "cell_type": "code",
   "execution_count": 30,
   "metadata": {},
   "outputs": [
    {
     "data": {
      "text/plain": [
       "(1290, 14)"
      ]
     },
     "execution_count": 30,
     "metadata": {},
     "output_type": "execute_result"
    }
   ],
   "source": [
    "df.shape"
   ]
  },
  {
   "cell_type": "code",
   "execution_count": 31,
   "metadata": {},
   "outputs": [
    {
     "data": {
      "text/plain": [
       "(816, 12)"
      ]
     },
     "execution_count": 31,
     "metadata": {},
     "output_type": "execute_result"
    }
   ],
   "source": [
    "df_trim.shape"
   ]
  },
  {
   "cell_type": "code",
   "execution_count": 32,
   "metadata": {},
   "outputs": [
    {
     "data": {
      "text/html": [
       "<div>\n",
       "<style scoped>\n",
       "    .dataframe tbody tr th:only-of-type {\n",
       "        vertical-align: middle;\n",
       "    }\n",
       "\n",
       "    .dataframe tbody tr th {\n",
       "        vertical-align: top;\n",
       "    }\n",
       "\n",
       "    .dataframe thead th {\n",
       "        text-align: right;\n",
       "    }\n",
       "</style>\n",
       "<table border=\"1\" class=\"dataframe\">\n",
       "  <thead>\n",
       "    <tr style=\"text-align: right;\">\n",
       "      <th></th>\n",
       "      <th>Duration</th>\n",
       "      <th>Budget</th>\n",
       "      <th>Gross Earnings</th>\n",
       "      <th>Facebook_Likes_Director</th>\n",
       "      <th>Facebook_Likes_Actor</th>\n",
       "      <th>Facebook_Likes_Music</th>\n",
       "      <th>Facebook_Likes_Actress</th>\n",
       "      <th>Facebook_Likes_Total_Cast</th>\n",
       "      <th>Facenumber_in_posters</th>\n",
       "      <th>User_upvotes</th>\n",
       "      <th>Reviews_by_Users</th>\n",
       "      <th>IMDB_Score</th>\n",
       "    </tr>\n",
       "  </thead>\n",
       "  <tbody>\n",
       "    <tr>\n",
       "      <th>0</th>\n",
       "      <td>123</td>\n",
       "      <td>385907</td>\n",
       "      <td>2300000.0</td>\n",
       "      <td>204</td>\n",
       "      <td>436</td>\n",
       "      <td>22</td>\n",
       "      <td>9</td>\n",
       "      <td>481</td>\n",
       "      <td>1</td>\n",
       "      <td>10718</td>\n",
       "      <td>88</td>\n",
       "      <td>8.0</td>\n",
       "    </tr>\n",
       "    <tr>\n",
       "      <th>1</th>\n",
       "      <td>110</td>\n",
       "      <td>100000</td>\n",
       "      <td>3000000.0</td>\n",
       "      <td>0</td>\n",
       "      <td>2</td>\n",
       "      <td>2</td>\n",
       "      <td>0</td>\n",
       "      <td>4</td>\n",
       "      <td>1</td>\n",
       "      <td>5</td>\n",
       "      <td>1</td>\n",
       "      <td>4.8</td>\n",
       "    </tr>\n",
       "  </tbody>\n",
       "</table>\n",
       "</div>"
      ],
      "text/plain": [
       "   Duration  Budget  Gross Earnings  Facebook_Likes_Director  \\\n",
       "0       123  385907       2300000.0                      204   \n",
       "1       110  100000       3000000.0                        0   \n",
       "\n",
       "   Facebook_Likes_Actor  Facebook_Likes_Music  Facebook_Likes_Actress  \\\n",
       "0                   436                    22                       9   \n",
       "1                     2                     2                       0   \n",
       "\n",
       "   Facebook_Likes_Total_Cast  Facenumber_in_posters  User_upvotes  \\\n",
       "0                        481                      1         10718   \n",
       "1                          4                      1             5   \n",
       "\n",
       "   Reviews_by_Users  IMDB_Score  \n",
       "0                88         8.0  \n",
       "1                 1         4.8  "
      ]
     },
     "execution_count": 32,
     "metadata": {},
     "output_type": "execute_result"
    }
   ],
   "source": [
    "df_trim.head(2)"
   ]
  },
  {
   "cell_type": "markdown",
   "metadata": {},
   "source": [
    "<table align=\"left\">\n",
    "    <tr>\n",
    "        <td width=\"6%\">\n",
    "            <img src=\"question_icon.png\">\n",
    "        </td>\n",
    "        <td>\n",
    "            <div align=\"left\", style=\"font-size:120%\">\n",
    "                <font color=\"#21618C\">\n",
    "                    <b>6. Transform the variables in the standard form such that they will have mean 0 and standard deviation 1 and get the summary.</b>\n",
    "                </font>\n",
    "            </div>\n",
    "        </td>\n",
    "    </tr>\n",
    "</table>"
   ]
  },
  {
   "cell_type": "code",
   "execution_count": 33,
   "metadata": {},
   "outputs": [],
   "source": [
    "# write your code here\n",
    "from sklearn.preprocessing import StandardScaler"
   ]
  },
  {
   "cell_type": "code",
   "execution_count": 51,
   "metadata": {},
   "outputs": [
    {
     "data": {
      "text/html": [
       "<div>\n",
       "<style scoped>\n",
       "    .dataframe tbody tr th:only-of-type {\n",
       "        vertical-align: middle;\n",
       "    }\n",
       "\n",
       "    .dataframe tbody tr th {\n",
       "        vertical-align: top;\n",
       "    }\n",
       "\n",
       "    .dataframe thead th {\n",
       "        text-align: right;\n",
       "    }\n",
       "</style>\n",
       "<table border=\"1\" class=\"dataframe\">\n",
       "  <thead>\n",
       "    <tr style=\"text-align: right;\">\n",
       "      <th></th>\n",
       "      <th>Duration</th>\n",
       "      <th>Budget</th>\n",
       "      <th>Gross Earnings</th>\n",
       "      <th>Facebook_Likes_Director</th>\n",
       "      <th>Facebook_Likes_Actor</th>\n",
       "      <th>Facebook_Likes_Music</th>\n",
       "      <th>Facebook_Likes_Actress</th>\n",
       "      <th>Facebook_Likes_Total_Cast</th>\n",
       "      <th>Facenumber_in_posters</th>\n",
       "      <th>User_upvotes</th>\n",
       "      <th>Reviews_by_Users</th>\n",
       "      <th>IMDB_Score</th>\n",
       "    </tr>\n",
       "  </thead>\n",
       "  <tbody>\n",
       "    <tr>\n",
       "      <th>count</th>\n",
       "      <td>8.160000e+02</td>\n",
       "      <td>8.160000e+02</td>\n",
       "      <td>8.160000e+02</td>\n",
       "      <td>8.160000e+02</td>\n",
       "      <td>8.160000e+02</td>\n",
       "      <td>8.160000e+02</td>\n",
       "      <td>8.160000e+02</td>\n",
       "      <td>8.160000e+02</td>\n",
       "      <td>8.160000e+02</td>\n",
       "      <td>8.160000e+02</td>\n",
       "      <td>8.160000e+02</td>\n",
       "      <td>8.160000e+02</td>\n",
       "    </tr>\n",
       "    <tr>\n",
       "      <th>mean</th>\n",
       "      <td>-2.166831e-16</td>\n",
       "      <td>-1.941870e-16</td>\n",
       "      <td>-1.008180e-16</td>\n",
       "      <td>-1.925203e-17</td>\n",
       "      <td>-1.251722e-16</td>\n",
       "      <td>1.756493e-16</td>\n",
       "      <td>-2.775558e-17</td>\n",
       "      <td>2.209562e-16</td>\n",
       "      <td>2.519771e-16</td>\n",
       "      <td>1.040834e-17</td>\n",
       "      <td>5.782412e-17</td>\n",
       "      <td>1.299716e-15</td>\n",
       "    </tr>\n",
       "    <tr>\n",
       "      <th>std</th>\n",
       "      <td>1.000613e+00</td>\n",
       "      <td>1.000613e+00</td>\n",
       "      <td>1.000613e+00</td>\n",
       "      <td>1.000613e+00</td>\n",
       "      <td>1.000613e+00</td>\n",
       "      <td>1.000613e+00</td>\n",
       "      <td>1.000613e+00</td>\n",
       "      <td>1.000613e+00</td>\n",
       "      <td>1.000613e+00</td>\n",
       "      <td>1.000613e+00</td>\n",
       "      <td>1.000613e+00</td>\n",
       "      <td>1.000613e+00</td>\n",
       "    </tr>\n",
       "    <tr>\n",
       "      <th>min</th>\n",
       "      <td>-2.468548e+00</td>\n",
       "      <td>-9.815889e-01</td>\n",
       "      <td>-1.783783e+00</td>\n",
       "      <td>-7.208802e-01</td>\n",
       "      <td>-5.969095e-01</td>\n",
       "      <td>-1.638873e+00</td>\n",
       "      <td>-1.289958e+00</td>\n",
       "      <td>-8.117497e-01</td>\n",
       "      <td>-8.553342e-01</td>\n",
       "      <td>-9.131624e-01</td>\n",
       "      <td>-1.225703e+00</td>\n",
       "      <td>-2.686578e+00</td>\n",
       "    </tr>\n",
       "    <tr>\n",
       "      <th>25%</th>\n",
       "      <td>-7.434368e-01</td>\n",
       "      <td>-7.981605e-01</td>\n",
       "      <td>-8.038092e-01</td>\n",
       "      <td>-6.802130e-01</td>\n",
       "      <td>-4.848971e-01</td>\n",
       "      <td>-8.508092e-01</td>\n",
       "      <td>-8.615327e-01</td>\n",
       "      <td>-5.835025e-01</td>\n",
       "      <td>-8.553342e-01</td>\n",
       "      <td>-7.478276e-01</td>\n",
       "      <td>-7.593133e-01</td>\n",
       "      <td>-6.098211e-01</td>\n",
       "    </tr>\n",
       "    <tr>\n",
       "      <th>50%</th>\n",
       "      <td>-2.080573e-01</td>\n",
       "      <td>-3.780554e-01</td>\n",
       "      <td>-3.435794e-01</td>\n",
       "      <td>-4.599320e-01</td>\n",
       "      <td>-4.252817e-01</td>\n",
       "      <td>-5.269526e-02</td>\n",
       "      <td>-2.347619e-01</td>\n",
       "      <td>-3.929646e-01</td>\n",
       "      <td>9.539043e-03</td>\n",
       "      <td>-3.866652e-01</td>\n",
       "      <td>-2.851179e-01</td>\n",
       "      <td>8.243119e-02</td>\n",
       "    </tr>\n",
       "    <tr>\n",
       "      <th>75%</th>\n",
       "      <td>6.247552e-01</td>\n",
       "      <td>4.884113e-01</td>\n",
       "      <td>4.980472e-01</td>\n",
       "      <td>2.991901e-01</td>\n",
       "      <td>-3.949945e-01</td>\n",
       "      <td>8.542904e-01</td>\n",
       "      <td>7.351460e-01</td>\n",
       "      <td>-2.791742e-02</td>\n",
       "      <td>8.744123e-01</td>\n",
       "      <td>4.582602e-01</td>\n",
       "      <td>5.383818e-01</td>\n",
       "      <td>7.746835e-01</td>\n",
       "    </tr>\n",
       "    <tr>\n",
       "      <th>max</th>\n",
       "      <td>3.301652e+00</td>\n",
       "      <td>3.219094e+00</td>\n",
       "      <td>3.496086e+00</td>\n",
       "      <td>3.772851e+00</td>\n",
       "      <td>4.249050e+00</td>\n",
       "      <td>1.711028e+00</td>\n",
       "      <td>2.676945e+00</td>\n",
       "      <td>3.907736e+00</td>\n",
       "      <td>3.469032e+00</td>\n",
       "      <td>4.103499e+00</td>\n",
       "      <td>3.785547e+00</td>\n",
       "      <td>2.389939e+00</td>\n",
       "    </tr>\n",
       "  </tbody>\n",
       "</table>\n",
       "</div>"
      ],
      "text/plain": [
       "           Duration        Budget  Gross Earnings  Facebook_Likes_Director  \\\n",
       "count  8.160000e+02  8.160000e+02    8.160000e+02             8.160000e+02   \n",
       "mean  -2.166831e-16 -1.941870e-16   -1.008180e-16            -1.925203e-17   \n",
       "std    1.000613e+00  1.000613e+00    1.000613e+00             1.000613e+00   \n",
       "min   -2.468548e+00 -9.815889e-01   -1.783783e+00            -7.208802e-01   \n",
       "25%   -7.434368e-01 -7.981605e-01   -8.038092e-01            -6.802130e-01   \n",
       "50%   -2.080573e-01 -3.780554e-01   -3.435794e-01            -4.599320e-01   \n",
       "75%    6.247552e-01  4.884113e-01    4.980472e-01             2.991901e-01   \n",
       "max    3.301652e+00  3.219094e+00    3.496086e+00             3.772851e+00   \n",
       "\n",
       "       Facebook_Likes_Actor  Facebook_Likes_Music  Facebook_Likes_Actress  \\\n",
       "count          8.160000e+02          8.160000e+02            8.160000e+02   \n",
       "mean          -1.251722e-16          1.756493e-16           -2.775558e-17   \n",
       "std            1.000613e+00          1.000613e+00            1.000613e+00   \n",
       "min           -5.969095e-01         -1.638873e+00           -1.289958e+00   \n",
       "25%           -4.848971e-01         -8.508092e-01           -8.615327e-01   \n",
       "50%           -4.252817e-01         -5.269526e-02           -2.347619e-01   \n",
       "75%           -3.949945e-01          8.542904e-01            7.351460e-01   \n",
       "max            4.249050e+00          1.711028e+00            2.676945e+00   \n",
       "\n",
       "       Facebook_Likes_Total_Cast  Facenumber_in_posters  User_upvotes  \\\n",
       "count               8.160000e+02           8.160000e+02  8.160000e+02   \n",
       "mean                2.209562e-16           2.519771e-16  1.040834e-17   \n",
       "std                 1.000613e+00           1.000613e+00  1.000613e+00   \n",
       "min                -8.117497e-01          -8.553342e-01 -9.131624e-01   \n",
       "25%                -5.835025e-01          -8.553342e-01 -7.478276e-01   \n",
       "50%                -3.929646e-01           9.539043e-03 -3.866652e-01   \n",
       "75%                -2.791742e-02           8.744123e-01  4.582602e-01   \n",
       "max                 3.907736e+00           3.469032e+00  4.103499e+00   \n",
       "\n",
       "       Reviews_by_Users    IMDB_Score  \n",
       "count      8.160000e+02  8.160000e+02  \n",
       "mean       5.782412e-17  1.299716e-15  \n",
       "std        1.000613e+00  1.000613e+00  \n",
       "min       -1.225703e+00 -2.686578e+00  \n",
       "25%       -7.593133e-01 -6.098211e-01  \n",
       "50%       -2.851179e-01  8.243119e-02  \n",
       "75%        5.383818e-01  7.746835e-01  \n",
       "max        3.785547e+00  2.389939e+00  "
      ]
     },
     "execution_count": 51,
     "metadata": {},
     "output_type": "execute_result"
    }
   ],
   "source": [
    "ss = StandardScaler()\n",
    "dfcs = ss.fit_transform(df_trim)\n",
    "dfcs = pd.DataFrame(dfcs, columns = df_trim.columns)\n",
    "dfcs.describe()"
   ]
  },
  {
   "cell_type": "markdown",
   "metadata": {},
   "source": [
    "<table align=\"left\">\n",
    "    <tr>\n",
    "        <td width=\"6%\">\n",
    "            <img src=\"question_icon.png\">\n",
    "        </td>\n",
    "        <td>\n",
    "            <div align=\"left\", style=\"font-size:120%\">\n",
    "                <font color=\"#21618C\">\n",
    "                    <b>7. Obtain a covariance matrix and find the eigenvalues. Hence arrange the eigenvalues in decreasing order. </b>\n",
    "                </font>\n",
    "            </div>\n",
    "        </td>\n",
    "    </tr>\n",
    "</table>"
   ]
  },
  {
   "cell_type": "code",
   "execution_count": 52,
   "metadata": {},
   "outputs": [
    {
     "name": "stdout",
     "output_type": "stream",
     "text": [
      "[[ 1.00122699  0.23212022  0.11293518  0.17243579  0.15257657  0.0708679\n",
      "   0.04907752  0.15295669  0.02679595  0.13314716  0.13173008  0.27252797]\n",
      " [ 0.23212022  1.00122699  0.27363375  0.15334358  0.22934785  0.2716813\n",
      "   0.24451357  0.26400159  0.03755116  0.23404983  0.1378179  -0.22920726]\n",
      " [ 0.11293518  0.27363375  1.00122699  0.1199378   0.0654592   0.14307292\n",
      "   0.1385004   0.09386991 -0.02329767  0.45833533  0.22540712  0.05217967]\n",
      " [ 0.17243579  0.15334358  0.1199378   1.00122699  0.05246468  0.06644522\n",
      "   0.04390895  0.05918187  0.05888775  0.19789613  0.12708188  0.15713751]\n",
      " [ 0.15257657  0.22934785  0.0654592   0.05246468  1.00122699  0.37429659\n",
      "   0.29799103  0.98329299  0.101542    0.17417609  0.12099606  0.04212114]\n",
      " [ 0.0708679   0.2716813   0.14307292  0.06644522  0.37429659  1.00122699\n",
      "   0.82410666  0.50950541  0.11714473  0.18431454  0.16011511 -0.09217325]\n",
      " [ 0.04907752  0.24451357  0.1385004   0.04390895  0.29799103  0.82410666\n",
      "   1.00122699  0.45587517  0.09338539  0.16728585  0.17140368 -0.08213416]\n",
      " [ 0.15295669  0.26400159  0.09386991  0.05918187  0.98329299  0.50950541\n",
      "   0.45587517  1.00122699  0.11311924  0.19489721  0.14273905  0.01813501]\n",
      " [ 0.02679595  0.03755116 -0.02329767  0.05888775  0.101542    0.11714473\n",
      "   0.09338539  0.11311924  1.00122699  0.00672734 -0.03885517  0.00557938]\n",
      " [ 0.13314716  0.23404983  0.45833533  0.19789613  0.17417609  0.18431454\n",
      "   0.16728585  0.19489721  0.00672734  1.00122699  0.72750969  0.357821  ]\n",
      " [ 0.13173008  0.1378179   0.22540712  0.12708188  0.12099606  0.16011511\n",
      "   0.17140368  0.14273905 -0.03885517  0.72750969  1.00122699  0.28916559]\n",
      " [ 0.27252797 -0.22920726  0.05217967  0.15713751  0.04212114 -0.09217325\n",
      "  -0.08213416  0.01813501  0.00557938  0.357821    0.28916559  1.00122699]]\n"
     ]
    }
   ],
   "source": [
    "# write your code here\n",
    "cov_mat = np.cov(dfcs.T)\n",
    "print(cov_mat)"
   ]
  },
  {
   "cell_type": "markdown",
   "metadata": {},
   "source": [
    "<table align=\"left\">\n",
    "    <tr>\n",
    "        <td width=\"6%\">\n",
    "            <img src=\"question_icon.png\">\n",
    "        </td>\n",
    "        <td>\n",
    "            <div align=\"left\", style=\"font-size:120%\">\n",
    "                <font color=\"#21618C\">\n",
    "                    <b>8. Draw the scree plot and obtain the optimal number of components. Hence find the percentage of variation explained by the optimal number of components. </b>\n",
    "                </font>\n",
    "            </div>\n",
    "        </td>\n",
    "    </tr>\n",
    "</table>"
   ]
  },
  {
   "cell_type": "code",
   "execution_count": 53,
   "metadata": {},
   "outputs": [
    {
     "name": "stdout",
     "output_type": "stream",
     "text": [
      "Eigenvalues: \n",
      " \n",
      " [3.28223121e+00 2.00114967e+00 2.97351391e-03 1.70656062e-01\n",
      " 2.11353852e-01 4.30562273e-01 1.30056755e+00 1.14135852e+00\n",
      " 7.05593722e-01 8.21407447e-01 9.15881664e-01 1.03098845e+00] \n",
      "\n",
      "Eigenvectors: \n",
      " \n",
      " [[-1.68250505e-01 -1.88626281e-01 -1.60759764e-03 -3.68391422e-02\n",
      "   1.05012385e-01 -3.83475492e-01  2.67647502e-01  5.12434769e-01\n",
      "  -4.53414918e-02  5.29111365e-01 -4.00412986e-01 -1.00652404e-02]\n",
      " [-2.73076631e-01  3.18940654e-02 -8.01368727e-04  2.55988772e-02\n",
      "  -1.19296043e-01  5.78708523e-01 -3.54582534e-01  5.03383041e-01\n",
      "  -3.67211983e-01  1.04457216e-01  9.35757994e-02  2.02448112e-01]\n",
      " [-2.16357702e-01 -2.67195159e-01 -4.84319248e-03  6.09541367e-02\n",
      "  -2.32513140e-01 -1.31523707e-01 -3.80215041e-01  1.31518848e-01\n",
      "   7.40569129e-01  1.04233962e-01  2.40017777e-01  1.67092221e-01]\n",
      " [-1.31256353e-01 -2.13978666e-01 -6.96073001e-04 -9.58484275e-03\n",
      "  -2.79016390e-02 -1.12751454e-01  4.87537834e-02  4.44700090e-01\n",
      "   3.41378116e-02 -7.69232200e-01 -1.52914005e-01 -3.27108228e-01]\n",
      " [-3.94835848e-01  2.29891305e-01 -6.75033503e-01  5.87382099e-03\n",
      "  -2.23914720e-02 -4.60379100e-02  4.16941744e-01  5.56251399e-03\n",
      "   4.33577056e-02 -1.31279573e-01  1.97440845e-01  3.17742943e-01]\n",
      " [-3.99366731e-01  2.55256387e-01 -3.18950123e-02  6.96929027e-01\n",
      "   2.10669747e-01  1.91261794e-02 -2.05271154e-01 -1.78540728e-01\n",
      "   6.53183913e-02  4.25885977e-02 -2.89195637e-01 -2.83104295e-01]\n",
      " [-3.76114972e-01  2.41118057e-01 -1.04067542e-01 -6.59745766e-01\n",
      "  -1.72522884e-01  3.70942945e-02 -2.43557092e-01 -2.19871132e-01\n",
      "   6.60493176e-02  6.43855591e-02 -3.34017991e-01 -3.08910256e-01]\n",
      " [-4.38197958e-01  2.58596912e-01  7.29678932e-01 -5.89903099e-02\n",
      "  -3.39321537e-02 -4.05718113e-02  3.36951384e-01 -2.95600418e-02\n",
      "   5.63004354e-02 -1.09672181e-01  1.24850219e-01  2.39178152e-01]\n",
      " [-7.94044142e-02  1.06008846e-01 -4.89974503e-04 -5.96324668e-03\n",
      "  -3.67817484e-02 -3.53489314e-02  1.46959278e-01  1.52709489e-01\n",
      "  -4.58685244e-02  2.44347958e-01  6.46876692e-01 -6.74271682e-01]\n",
      " [-3.17275611e-01 -4.71327743e-01 -1.38362893e-03 -2.04435339e-01\n",
      "   7.28618045e-01  2.29400027e-02 -1.16525788e-01 -1.94791774e-01\n",
      "  -1.08013623e-01 -2.35136312e-02  1.96216818e-01  4.16792027e-02]\n",
      " [-2.68506692e-01 -4.31814505e-01  1.70445593e-03  1.53835227e-01\n",
      "  -5.29567550e-01 -3.15332437e-01 -7.39518532e-02 -3.12216683e-01\n",
      "  -4.79155734e-01  1.63151782e-04  7.01449783e-02  2.09087446e-02]\n",
      " [-7.17513965e-02 -4.28199922e-01  4.34214813e-03  6.47823300e-02\n",
      "  -1.77263622e-01  6.17506212e-01  4.75624338e-01 -1.70565589e-01\n",
      "   2.37595807e-01  1.05197495e-01 -1.95648595e-01 -1.82857491e-01]] \n",
      "\n"
     ]
    }
   ],
   "source": [
    "eig_val, eig_vec = np.linalg.eig(cov_mat)\n",
    "\n",
    "print('Eigenvalues:','\\n','\\n', eig_val,\"\\n\")\n",
    "\n",
    "print('Eigenvectors:','\\n','\\n',eig_vec,'\\n')"
   ]
  },
  {
   "cell_type": "code",
   "execution_count": 54,
   "metadata": {},
   "outputs": [
    {
     "name": "stdout",
     "output_type": "stream",
     "text": [
      "[3.28223120651401, 2.0011496682414407, 1.3005675546221729, 1.1413585166858675, 1.0309884462442023, 0.9158816638591902, 0.8214074471312948, 0.7055937222739882, 0.43056227311273143, 0.21135385172389987, 0.17065606206378175, 0.002973513907782043]\n"
     ]
    }
   ],
   "source": [
    "eig_val = list(eig_val)\n",
    "eig_val.sort(reverse = True)\n",
    "print(eig_val)"
   ]
  },
  {
   "cell_type": "code",
   "execution_count": 56,
   "metadata": {},
   "outputs": [
    {
     "data": {
      "image/png": "[encoded data removed]",
      "text/plain": [
       "<Figure size 432x288 with 1 Axes>"
      ]
     },
     "metadata": {
      "needs_background": "light"
     },
     "output_type": "display_data"
    }
   ],
   "source": [
    "plt.plot(eig_val,'bp')            \n",
    "\n",
    "plt.plot(eig_val) \n",
    "plt.title('Scree Plot', fontsize = 15)\n",
    "plt.xlabel('Principal Components', fontsize = 15)    \n",
    "plt.ylabel('Explained Variance', fontsize = 15)      \n",
    "\n",
    "plt.annotate(text='Elbow Point', xy=(2.1,1.5), xytext=(2.1,1.8), arrowprops=dict(facecolor='black', arrowstyle = 'simple'))\n",
    "plt.show() "
   ]
  },
  {
   "cell_type": "markdown",
   "metadata": {},
   "source": [
    "Only first three components explains most variation"
   ]
  },
  {
   "cell_type": "markdown",
   "metadata": {},
   "source": [
    "<table align=\"left\">\n",
    "    <tr>\n",
    "        <td width=\"6%\">\n",
    "            <img src=\"question_icon.png\">\n",
    "        </td>\n",
    "        <td>\n",
    "            <div align=\"left\", style=\"font-size:120%\">\n",
    "                <font color=\"#21618C\">\n",
    "                    <b>9. Perform the principal component analysis using python libraries with the optimal number of components obtained in the previous question. </b>\n",
    "                </font>\n",
    "            </div>\n",
    "        </td>\n",
    "    </tr>\n",
    "</table>"
   ]
  },
  {
   "cell_type": "code",
   "execution_count": 58,
   "metadata": {},
   "outputs": [],
   "source": [
    "from sklearn.decomposition import PCA"
   ]
  },
  {
   "cell_type": "code",
   "execution_count": 60,
   "metadata": {},
   "outputs": [],
   "source": [
    "# write your code here\n",
    "# as per  Kaiser criterion we will select 5 pricipal components\n",
    "pca = PCA(n_components = 5, random_state = 10)\n",
    "components = pca.fit_transform(dfcs)"
   ]
  },
  {
   "cell_type": "code",
   "execution_count": 61,
   "metadata": {},
   "outputs": [
    {
     "data": {
      "text/html": [
       "<div>\n",
       "<style scoped>\n",
       "    .dataframe tbody tr th:only-of-type {\n",
       "        vertical-align: middle;\n",
       "    }\n",
       "\n",
       "    .dataframe tbody tr th {\n",
       "        vertical-align: top;\n",
       "    }\n",
       "\n",
       "    .dataframe thead th {\n",
       "        text-align: right;\n",
       "    }\n",
       "</style>\n",
       "<table border=\"1\" class=\"dataframe\">\n",
       "  <thead>\n",
       "    <tr style=\"text-align: right;\">\n",
       "      <th></th>\n",
       "      <th>PC1</th>\n",
       "      <th>PC2</th>\n",
       "      <th>PC3</th>\n",
       "      <th>PC4</th>\n",
       "      <th>PC5</th>\n",
       "    </tr>\n",
       "  </thead>\n",
       "  <tbody>\n",
       "    <tr>\n",
       "      <th>0</th>\n",
       "      <td>-2.049449</td>\n",
       "      <td>1.307255</td>\n",
       "      <td>2.073692</td>\n",
       "      <td>0.777733</td>\n",
       "      <td>0.430519</td>\n",
       "    </tr>\n",
       "    <tr>\n",
       "      <th>1</th>\n",
       "      <td>-3.005403</td>\n",
       "      <td>-1.058639</td>\n",
       "      <td>0.078044</td>\n",
       "      <td>0.676884</td>\n",
       "      <td>-0.660814</td>\n",
       "    </tr>\n",
       "    <tr>\n",
       "      <th>2</th>\n",
       "      <td>-2.156638</td>\n",
       "      <td>1.482015</td>\n",
       "      <td>2.500644</td>\n",
       "      <td>1.130227</td>\n",
       "      <td>-0.367845</td>\n",
       "    </tr>\n",
       "    <tr>\n",
       "      <th>3</th>\n",
       "      <td>-2.324907</td>\n",
       "      <td>0.826243</td>\n",
       "      <td>1.743463</td>\n",
       "      <td>0.001637</td>\n",
       "      <td>-0.034986</td>\n",
       "    </tr>\n",
       "    <tr>\n",
       "      <th>4</th>\n",
       "      <td>-2.457039</td>\n",
       "      <td>0.680024</td>\n",
       "      <td>1.503189</td>\n",
       "      <td>0.138072</td>\n",
       "      <td>0.270592</td>\n",
       "    </tr>\n",
       "  </tbody>\n",
       "</table>\n",
       "</div>"
      ],
      "text/plain": [
       "        PC1       PC2       PC3       PC4       PC5\n",
       "0 -2.049449  1.307255  2.073692  0.777733  0.430519\n",
       "1 -3.005403 -1.058639  0.078044  0.676884 -0.660814\n",
       "2 -2.156638  1.482015  2.500644  1.130227 -0.367845\n",
       "3 -2.324907  0.826243  1.743463  0.001637 -0.034986\n",
       "4 -2.457039  0.680024  1.503189  0.138072  0.270592"
      ]
     },
     "execution_count": 61,
     "metadata": {},
     "output_type": "execute_result"
    }
   ],
   "source": [
    "df_pca_sklearn = pd.DataFrame(data = components, columns = ['PC1', 'PC2', 'PC3', 'PC4', 'PC5'])\n",
    "df_pca_sklearn.head()"
   ]
  },
  {
   "cell_type": "markdown",
   "metadata": {},
   "source": [
    "<table align=\"left\">\n",
    "    <tr>\n",
    "        <td width=\"6%\">\n",
    "            <img src=\"question_icon.png\">\n",
    "        </td>\n",
    "        <td>\n",
    "            <div align=\"left\", style=\"font-size:120%\">\n",
    "                <font color=\"#21618C\">\n",
    "                    <b>10. Check the equality of the equation Ax = $\\lambda$x, where A is the covariance matrix, $\\lambda$ is the largest eigenvalue of A and x is the eigenvector corresponding $\\lambda$.  </b>\n",
    "                </font>\n",
    "            </div>\n",
    "        </td>\n",
    "    </tr>\n",
    "</table>"
   ]
  },
  {
   "cell_type": "code",
   "execution_count": 63,
   "metadata": {},
   "outputs": [
    {
     "data": {
      "text/plain": [
       "array([-0.55223706, -0.89630064, -0.710136  , -0.4308137 , -1.29594254,\n",
       "       -1.31081395, -1.2344963 , -1.43826701, -0.26062365, -1.04137191,\n",
       "       -0.88130104, -0.23550467])"
      ]
     },
     "execution_count": 63,
     "metadata": {},
     "output_type": "execute_result"
    }
   ],
   "source": [
    "# write your code here\n",
    "cov_mat.dot(eig_vec[:, 0])\n",
    "#\n",
    "# RHS\n",
    "#\n",
    "eig_val[0]*eig_vec[:, 0]"
   ]
  },
  {
   "cell_type": "code",
   "execution_count": null,
   "metadata": {},
   "outputs": [],
   "source": []
  }
 ],
 "metadata": {
  "kernelspec": {
   "display_name": "Python 3 (ipykernel)",
   "language": "python",
   "name": "python3"
  },
  "language_info": {
   "codemirror_mode": {
    "name": "ipython",
    "version": 3
   },
   "file_extension": ".py",
   "mimetype": "text/x-python",
   "name": "python",
   "nbconvert_exporter": "python",
   "pygments_lexer": "ipython3",
   "version": "3.9.7"
  }
 },
 "nbformat": 4,
 "nbformat_minor": 2
}
